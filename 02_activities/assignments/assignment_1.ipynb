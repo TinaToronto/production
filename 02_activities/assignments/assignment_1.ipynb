{
 "cells": [
  {
   "cell_type": "markdown",
   "metadata": {},
   "source": [
    "# Working with parquet files\n",
    "\n",
    "## Objective\n",
    "\n",
    "+ In this assignment, we will use the data downloaded with the module `data_manager` to create features.\n",
    "\n",
    "(11 pts total)\n",
    "\n",
    "## Prerequisites\n",
    "\n",
    "+ This notebook assumes that price data is available to you in the environment variable `PRICE_DATA`. If you have not done so, then execute the notebook `01_materials/labs/2_data_engineering.ipynb` to create this data set.\n"
   ]
  },
  {
   "cell_type": "markdown",
   "metadata": {},
   "source": [
    "+ Load the environment variables using dotenv. (1 pt)"
   ]
  },
  {
   "cell_type": "code",
   "execution_count": 25,
   "metadata": {},
   "outputs": [
    {
     "name": "stdout",
     "output_type": "stream",
     "text": [
      "../../05_src/data/tickers/sp500_wiki.csv\n"
     ]
    }
   ],
   "source": [
    "# Write your code below.\n",
    "\n",
    "from dotenv import load_dotenv\n",
    "import os\n",
    "\n",
    "# Load the .env file (make sure the path is correct)\n",
    "load_dotenv('C:/Tina Lin/Training/DSI/Week10_Production/assignments/.env') \n",
    "\n",
    "my_variable = os.getenv(\"TICKERS\") \n",
    "print(my_variable)\n"
   ]
  },
  {
   "cell_type": "code",
   "execution_count": 26,
   "metadata": {},
   "outputs": [],
   "source": [
    "import sys\n",
    "sys.path.append(\"../../05_src\")"
   ]
  },
  {
   "cell_type": "code",
   "execution_count": 13,
   "metadata": {},
   "outputs": [],
   "source": [
    "import logging\n",
    "#from logger import get_logger\n",
    "_logs = logging.getLogger(__name__)\n",
    "_logs.info(\"Hello world!\")"
   ]
  },
  {
   "cell_type": "code",
   "execution_count": 27,
   "metadata": {},
   "outputs": [],
   "source": [
    "import dask.dataframe as dd\n"
   ]
  },
  {
   "cell_type": "markdown",
   "metadata": {},
   "source": [
    "+ Load the environment variable `PRICE_DATA`.\n",
    "+ Use [glob](https://docs.python.org/3/library/glob.html) to find the path of all parquet files in the directory `PRICE_DATA`.\n",
    "\n",
    "(1pt)"
   ]
  },
  {
   "cell_type": "code",
   "execution_count": 15,
   "metadata": {},
   "outputs": [
    {
     "name": "stdout",
     "output_type": "stream",
     "text": [
      "<class 'module'>\n"
     ]
    }
   ],
   "source": [
    "import os\n",
    "import glob\n",
    "\n",
    "# Write your code below.\n",
    "\n",
    "print(type(glob)) \n"
   ]
  },
  {
   "cell_type": "code",
   "execution_count": 31,
   "metadata": {},
   "outputs": [
    {
     "name": "stdout",
     "output_type": "stream",
     "text": [
      "PRICE_DATA directory: ../../05_src/data/prices/\n",
      "Absolute PRICE_DATA directory: c:\\Tina Lin\\Training\\DSI\\05_src\\data\\prices\n",
      "Parquet files found: ['c:\\\\Tina Lin\\\\Training\\\\DSI\\\\05_src\\\\data\\\\prices\\\\sample_tickers.parquet']\n"
     ]
    }
   ],
   "source": [
    "# Get the PRICE_DATA environment variable\n",
    "price_data_dir = os.getenv(\"PRICE_DATA\")\n",
    "\n",
    "# Print the PRICE_DATA directory to verify it is loaded correctly\n",
    "print(\"PRICE_DATA directory:\", price_data_dir)\n",
    "\n",
    "# Convert relative path to absolute path\n",
    "absolute_price_data_dir = os.path.abspath(price_data_dir)\n",
    "print(\"Absolute PRICE_DATA directory:\", absolute_price_data_dir)\n",
    "\n",
    "# Use glob to find all parquet files in the PRICE_DATA directory (absolute path)\n",
    "parquet_files = glob.glob(os.path.join(absolute_price_data_dir, \"*.parquet\"))\n",
    "\n",
    "# Use glob to find all parquet files in the PRICE_DATA directory\n",
    "#parquet_files = glob.glob(os.path.join(price_data_dir, \"*.parquet\"))\n",
    "\n",
    "# Print the list of parquet files found\n",
    "print(\"Parquet files found:\", parquet_files)"
   ]
  },
  {
   "cell_type": "markdown",
   "metadata": {},
   "source": [
    "For each ticker and using Dask, do the following:\n",
    "\n",
    "+ Add lags for variables Close and Adj_Close.\n",
    "+ Add returns based on Adjusted Close:\n",
    "    \n",
    "    - `returns`: (Adj Close / Adj Close_lag) - 1\n",
    "\n",
    "+ Add the following range: \n",
    "\n",
    "    - `hi_lo_range`: this is the day's High minus Low.\n",
    "\n",
    "+ Assign the result to `dd_feat`.\n",
    "\n",
    "(4 pt)"
   ]
  },
  {
   "cell_type": "code",
   "execution_count": 34,
   "metadata": {},
   "outputs": [
    {
     "name": "stdout",
     "output_type": "stream",
     "text": [
      "CSV file converted to Parquet successfully.\n"
     ]
    }
   ],
   "source": [
    "import pandas as pd\n",
    "\n",
    "# Load the CSV file\n",
    "csv_file_path = \"c:/Tina Lin/Training/DSI/05_src/data/prices/sample_tickers.csv\"\n",
    "df = pd.read_csv(csv_file_path)\n",
    "\n",
    "# Convert and save as a Parquet file\n",
    "parquet_file_path = \"c:/Tina Lin/Training/DSI/05_src/data/prices/sample_tickers.parquet\"\n",
    "df.to_parquet(parquet_file_path, index=False)\n",
    "\n",
    "print(\"CSV file converted to Parquet successfully.\")"
   ]
  },
  {
   "cell_type": "code",
   "execution_count": 35,
   "metadata": {},
   "outputs": [
    {
     "name": "stdout",
     "output_type": "stream",
     "text": [
      "  ticker                 Security             GICS Sector  \\\n",
      "0   AAPL               Apple Inc.  Information Technology   \n",
      "1  GOOGL  Alphabet Inc. (Class A)  Communication Services   \n",
      "2   GOOG  Alphabet Inc. (Class C)  Communication Services   \n",
      "3   NVDA                   Nvidia  Information Technology   \n",
      "4   MSFT          Microsoft Corp.  Information Technology   \n",
      "\n",
      "                            GICS Sub-Industry      Headquarters Location  \\\n",
      "0  Technology Hardware, Storage & Peripherals      Cupertino, California   \n",
      "1                Interactive Media & Services  Mountain View, California   \n",
      "2                Interactive Media & Services  Mountain View, California   \n",
      "3                              Semiconductors    Santa Clara, California   \n",
      "4                        Application Software        Redmond, Washington   \n",
      "\n",
      "   Date added      CIK Founded  \n",
      "0       30285   320193    1977  \n",
      "1       41732  1652044    1998  \n",
      "2       38810  1652044    1998  \n",
      "3       37225  1045810    1993  \n",
      "4       30131  1338195    1986  \n"
     ]
    }
   ],
   "source": [
    "import pandas as pd\n",
    "\n",
    "# Try to load as a Parquet file\n",
    "try:\n",
    "    df = pd.read_parquet(\"c:/Tina Lin/Training/DSI/05_src/data/prices/sample_tickers.parquet\")\n",
    "    print(df.head())\n",
    "except Exception as e:\n",
    "    print(\"Error loading as Parquet:\", e)"
   ]
  },
  {
   "cell_type": "code",
   "execution_count": 38,
   "metadata": {},
   "outputs": [
    {
     "name": "stdout",
     "output_type": "stream",
     "text": [
      "Columns in DataFrame: Index(['ticker', 'Security', 'GICS Sector', 'GICS Sub-Industry',\n",
      "       'Headquarters Location', 'Date added', 'CIK', 'Founded'],\n",
      "      dtype='object')\n",
      "First few rows of DataFrame:\n",
      "  ticker                 Security             GICS Sector  \\\n",
      "0   AAPL               Apple Inc.  Information Technology   \n",
      "1  GOOGL  Alphabet Inc. (Class A)  Communication Services   \n",
      "2   GOOG  Alphabet Inc. (Class C)  Communication Services   \n",
      "3   NVDA                   Nvidia  Information Technology   \n",
      "4   MSFT          Microsoft Corp.  Information Technology   \n",
      "\n",
      "                            GICS Sub-Industry      Headquarters Location  \\\n",
      "0  Technology Hardware, Storage & Peripherals      Cupertino, California   \n",
      "1                Interactive Media & Services  Mountain View, California   \n",
      "2                Interactive Media & Services  Mountain View, California   \n",
      "3                              Semiconductors    Santa Clara, California   \n",
      "4                        Application Software        Redmond, Washington   \n",
      "\n",
      "   Date added      CIK Founded  \n",
      "0       30285   320193    1977  \n",
      "1       41732  1652044    1998  \n",
      "2       38810  1652044    1998  \n",
      "3       37225  1045810    1993  \n",
      "4       30131  1338195    1986  \n",
      "'Close' column not found.\n",
      "'High' or 'Low' column not found.\n"
     ]
    }
   ],
   "source": [
    "# Write your code below.\n",
    "\n",
    "import dask.dataframe as dd\n",
    "\n",
    "# Load the data \n",
    "dd_data = dd.read_parquet(\"c:/Tina Lin/Training/DSI/05_src/data/prices/sample_tickers.parquet\")\n",
    "\n",
    "# Print the columns to check if 'Close' exists\n",
    "print(\"Columns in DataFrame:\", dd_data.columns)\n",
    "\n",
    "# Check the first few rows to see the data\n",
    "print(\"First few rows of DataFrame:\")\n",
    "print(dd_data.head())\n",
    "\n",
    "# Ensure the 'Close' column exists before proceeding\n",
    "if 'Close' in dd_data.columns:\n",
    "    # Add lags for variables Close and Adj_Close (if Adj_Close exists)\n",
    "    dd_data['Close_lag'] = dd_data['Close'].shift(1)\n",
    "    if 'Adj_Close' in dd_data.columns:\n",
    "        dd_data['Adj_Close_lag'] = dd_data['Adj_Close'].shift(1)\n",
    "        # Calculate returns\n",
    "        dd_data['returns'] = (dd_data['Adj_Close'] / dd_data['Adj_Close_lag']) - 1\n",
    "    else:\n",
    "        print(\"'Adj_Close' column not found.\")\n",
    "else:\n",
    "    print(\"'Close' column not found.\")\n",
    "\n",
    "# Calculate the range (High - Low)\n",
    "if 'High' in dd_data.columns and 'Low' in dd_data.columns:\n",
    "    dd_data['hi_lo_range'] = dd_data['High'] - dd_data['Low']\n",
    "else:\n",
    "    print(\"'High' or 'Low' column not found.\")\n",
    "\n",
    "# Assign the resulting DataFrame to dd_feat\n",
    "dd_feat = dd_data\n"
   ]
  },
  {
   "cell_type": "markdown",
   "metadata": {},
   "source": [
    "+ Convert the Dask data frame to a pandas data frame. \n",
    "+ Add a rolling average return calculation with a window of 10 days.\n",
    "+ *Tip*: Consider using `.rolling(10).mean()`.\n",
    "\n",
    "(3 pt)"
   ]
  },
  {
   "cell_type": "code",
   "execution_count": 40,
   "metadata": {},
   "outputs": [
    {
     "name": "stdout",
     "output_type": "stream",
     "text": [
      "Columns in DataFrame: Index(['ticker', 'Security', 'GICS Sector', 'GICS Sub-Industry',\n",
      "       'Headquarters Location', 'Date added', 'CIK', 'Founded'],\n",
      "      dtype='object')\n",
      "'Close' column not found.\n",
      "'Adj_Close' column not found.\n",
      "'Adj_Close_lag' column not found.\n",
      "Returns calculation failed due to missing columns.\n"
     ]
    }
   ],
   "source": [
    "# Write your code below.\n",
    "\n",
    "import dask.dataframe as dd\n",
    "import pandas as pd\n",
    "\n",
    "# Load the Dask DataFrame (ensure you have already done this)\n",
    "dd_data = dd.read_parquet(\"c:/Tina Lin/Training/DSI/05_src/data/prices/sample_tickers.parquet\")\n",
    "\n",
    "# Check for relevant columns\n",
    "print(\"Columns in DataFrame:\", dd_data.columns)\n",
    "\n",
    "# Adding lag columns for Close and Adj_Close\n",
    "if 'Close' in dd_data.columns:\n",
    "    dd_data['Close_lag'] = dd_data['Close'].shift(1)\n",
    "else:\n",
    "    print(\"'Close' column not found.\")\n",
    "\n",
    "if 'Adj_Close' in dd_data.columns:\n",
    "    dd_data['Adj_Close_lag'] = dd_data['Adj_Close'].shift(1)\n",
    "else:\n",
    "    print(\"'Adj_Close' column not found.\")\n",
    "\n",
    "# Calculate returns if the lagged column exists\n",
    "if 'Adj_Close_lag' in dd_data.columns:\n",
    "    dd_data['returns'] = (dd_data['Adj_Close'] / dd_data['Adj_Close_lag']) - 1\n",
    "else:\n",
    "    print(\"'Adj_Close_lag' column not found.\")\n",
    "\n",
    "# Now convert to a Pandas DataFrame if 'returns' was successfully created\n",
    "if 'returns' in dd_data.columns:\n",
    "    df = dd_data.compute()  # Convert to Pandas DataFrame\n",
    "    print(\"Returns calculated successfully.\")\n",
    "\n",
    "    # Add a rolling average return calculation with a window of 10 days\n",
    "    df['rolling_avg_return'] = df['returns'].rolling(window=10).mean()\n",
    "\n",
    "    # Display the updated DataFrame\n",
    "    print(df.head())\n",
    "else:\n",
    "    print(\"Returns calculation failed due to missing columns.\")"
   ]
  },
  {
   "cell_type": "markdown",
   "metadata": {},
   "source": [
    "Please comment:\n",
    "\n",
    "+ Was it necessary to convert to pandas to calculate the moving average return?\n",
    "+ Would it have been better to do it in Dask? Why?\n",
    "\n",
    "(1 pt)"
   ]
  },
  {
   "cell_type": "markdown",
   "metadata": {},
   "source": [
    "+ Was it necessary to convert to pandas to calculate the moving average return?\n",
    "\n",
    "Answer: It is not necessary to convert a Dask DataFrame to a Pandas DataFrame to calculate the moving average return. Dask supports rolling computations directly on Dask DataFrames.\n",
    "\n",
    "+ Would it have been better to do it in Dask? Why?\n",
    "\n",
    "Answer: Yes. Using Dask for large datasets is better due to its efficiency, parallelism, and ability to handle data that exceeds memory limits. If the dataset is manageable in size, we might still choose Pandas for simplicity in some cases, but for scalability and performance, Dask is the preferred option for larger datasets.\n",
    "\n"
   ]
  },
  {
   "cell_type": "markdown",
   "metadata": {},
   "source": [
    "## Criteria\n",
    "\n",
    "The [rubric](./assignment_1_rubric_clean.xlsx) contains the criteria for grading."
   ]
  },
  {
   "cell_type": "markdown",
   "metadata": {},
   "source": [
    "## Submission Information\n",
    "\n",
    "🚨 **Please review our [Assignment Submission Guide](https://github.com/UofT-DSI/onboarding/blob/main/onboarding_documents/submissions.md)** 🚨 for detailed instructions on how to format, branch, and submit your work. Following these guidelines is crucial for your submissions to be evaluated correctly.\n",
    "\n",
    "### Submission Parameters:\n",
    "* Submission Due Date: `HH:MM AM/PM - DD/MM/YYYY`\n",
    "* The branch name for your repo should be: `assignment-1`\n",
    "* What to submit for this assignment:\n",
    "    * This Jupyter Notebook (assignment_1.ipynb) should be populated and should be the only change in your pull request.\n",
    "* What the pull request link should look like for this assignment: `https://github.com/<your_github_username>/production/pull/<pr_id>`\n",
    "    * Open a private window in your browser. Copy and paste the link to your pull request into the address bar. Make sure you can see your pull request properly. This helps the technical facilitator and learning support staff review your submission easily.\n",
    "\n",
    "Checklist:\n",
    "- [ ] Created a branch with the correct naming convention.\n",
    "- [ ] Ensured that the repository is public.\n",
    "- [ ] Reviewed the PR description guidelines and adhered to them.\n",
    "- [ ] Verify that the link is accessible in a private browser window.\n",
    "\n",
    "If you encounter any difficulties or have questions, please don't hesitate to reach out to our team via our Slack at `#cohort-3-help`. Our Technical Facilitators and Learning Support staff are here to help you navigate any challenges."
   ]
  }
 ],
 "metadata": {
  "kernelspec": {
   "display_name": "env",
   "language": "python",
   "name": "python3"
  },
  "language_info": {
   "codemirror_mode": {
    "name": "ipython",
    "version": 3
   },
   "file_extension": ".py",
   "mimetype": "text/x-python",
   "name": "python",
   "nbconvert_exporter": "python",
   "pygments_lexer": "ipython3",
   "version": "3.11.8"
  }
 },
 "nbformat": 4,
 "nbformat_minor": 2
}
